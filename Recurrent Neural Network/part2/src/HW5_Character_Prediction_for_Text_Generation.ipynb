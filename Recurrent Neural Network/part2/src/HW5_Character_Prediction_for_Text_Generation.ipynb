{
  "nbformat": 4,
  "nbformat_minor": 0,
  "metadata": {
    "colab": {
      "name": "HW5 - Character Prediction for Text Generation.ipynb",
      "provenance": []
    },
    "kernelspec": {
      "name": "python3",
      "display_name": "Python 3"
    },
    "accelerator": "GPU"
  },
  "cells": [
    {
      "cell_type": "markdown",
      "metadata": {
        "id": "yzgjB6ZLIILm",
        "colab_type": "text"
      },
      "source": [
        "### Character Prediction for Text Generation\n",
        " - Import Essential Libraries"
      ]
    },
    {
      "cell_type": "code",
      "metadata": {
        "id": "x346xFL-x9OL",
        "colab_type": "code",
        "outputId": "b6b41d11-dafc-42eb-9c36-1448a9ebc8c6",
        "colab": {
          "base_uri": "https://localhost:8080/",
          "height": 80
        }
      },
      "source": [
        "from __future__ import print_function\n",
        "import collections\n",
        "import os\n",
        "import tensorflow as tf\n",
        "from keras.models import Sequential, load_model\n",
        "from keras.layers import Dense, Activation, Embedding, Dropout, TimeDistributed\n",
        "from keras.layers import LSTM\n",
        "from keras.optimizers import Adam\n",
        "from keras.utils import to_categorical\n",
        "from keras.callbacks import ModelCheckpoint\n",
        "from keras.utils.vis_utils import plot_model\n",
        "import numpy as np\n",
        "import argparse\n",
        "import matplotlib.pyplot as plt"
      ],
      "execution_count": 0,
      "outputs": [
        {
          "output_type": "display_data",
          "data": {
            "text/html": [
              "<p style=\"color: red;\">\n",
              "The default version of TensorFlow in Colab will soon switch to TensorFlow 2.x.<br>\n",
              "We recommend you <a href=\"https://www.tensorflow.org/guide/migrate\" target=\"_blank\">upgrade</a> now \n",
              "or ensure your notebook will continue to use TensorFlow 1.x via the <code>%tensorflow_version 1.x</code> magic:\n",
              "<a href=\"https://colab.research.google.com/notebooks/tensorflow_version.ipynb\" target=\"_blank\">more info</a>.</p>\n"
            ],
            "text/plain": [
              "<IPython.core.display.HTML object>"
            ]
          },
          "metadata": {
            "tags": []
          }
        },
        {
          "output_type": "stream",
          "text": [
            "Using TensorFlow backend.\n"
          ],
          "name": "stderr"
        }
      ]
    },
    {
      "cell_type": "markdown",
      "metadata": {
        "id": "iazz82NFIRzR",
        "colab_type": "text"
      },
      "source": [
        "### Load the Training data set and build dictionary based on the characters in the training dataset."
      ]
    },
    {
      "cell_type": "code",
      "metadata": {
        "id": "IYB-N-h8T1RU",
        "colab_type": "code",
        "colab": {}
      },
      "source": [
        "data_path = \"simple-examples/data/\"\n",
        "text = open(data_path+'ptb.char.train.txt', 'rb').read().decode(encoding='utf-8')\n",
        "vocab = sorted(set(text))\n",
        "char2idx = {u:i for i, u in enumerate(vocab)}\n",
        "idx2char = np.array(vocab)"
      ],
      "execution_count": 0,
      "outputs": []
    },
    {
      "cell_type": "markdown",
      "metadata": {
        "id": "zmjx8x7aIi3G",
        "colab_type": "text"
      },
      "source": [
        "#### The Training, Validation and Test Datasets are converted into numeric format using the dictionary."
      ]
    },
    {
      "cell_type": "code",
      "metadata": {
        "id": "RbK2c8jBUJ4d",
        "colab_type": "code",
        "colab": {}
      },
      "source": [
        "train_data = np.array([char2idx[c] for c in text])"
      ],
      "execution_count": 0,
      "outputs": []
    },
    {
      "cell_type": "code",
      "metadata": {
        "id": "YCYhjZ8UVCrM",
        "colab_type": "code",
        "colab": {}
      },
      "source": [
        "valid_text = open(data_path+'ptb.char.valid.txt', 'rb').read().decode(encoding='utf-8')\n",
        "valid_data = np.array([char2idx[c] for c in valid_text])"
      ],
      "execution_count": 0,
      "outputs": []
    },
    {
      "cell_type": "code",
      "metadata": {
        "id": "WrN0mDxEVi38",
        "colab_type": "code",
        "colab": {}
      },
      "source": [
        "test_text = open(data_path+'ptb.char.test.txt', 'rb').read().decode(encoding='utf-8')\n",
        "test_data = np.array([char2idx[c] for c in test_text])"
      ],
      "execution_count": 0,
      "outputs": []
    },
    {
      "cell_type": "markdown",
      "metadata": {
        "id": "MR8oLDhQItBx",
        "colab_type": "text"
      },
      "source": [
        "The training and validation datasets are segregated into batch-sizes when processed by the recurrent neural network."
      ]
    },
    {
      "cell_type": "code",
      "metadata": {
        "id": "n5A0onAMWUpZ",
        "colab_type": "code",
        "colab": {}
      },
      "source": [
        "class KerasBatchGenerator(object):\n",
        "\n",
        "    def __init__(self, data, num_steps, batch_size, vocabulary, skip_step=5):\n",
        "        self.data = data\n",
        "        self.num_steps = num_steps\n",
        "        self.batch_size = batch_size\n",
        "        self.vocabulary = vocabulary\n",
        "        self.current_idx = 0\n",
        "        self.skip_step = skip_step\n",
        "\n",
        "    def generate(self):\n",
        "        x = np.zeros((self.batch_size, self.num_steps))\n",
        "        y = np.zeros((self.batch_size, self.num_steps, self.vocabulary))\n",
        "        while True:\n",
        "            for i in range(self.batch_size):\n",
        "                if self.current_idx + self.num_steps >= len(self.data):\n",
        "                    self.current_idx = 0\n",
        "                x[i, :] = self.data[self.current_idx:self.current_idx + self.num_steps]\n",
        "                temp_y = self.data[self.current_idx + 1:self.current_idx + self.num_steps + 1]\n",
        "                y[i, :, :] = to_categorical(temp_y, num_classes=self.vocabulary)\n",
        "                self.current_idx += self.skip_step\n",
        "            yield x, y"
      ],
      "execution_count": 0,
      "outputs": []
    },
    {
      "cell_type": "markdown",
      "metadata": {
        "id": "tXwXhPpNI4uF",
        "colab_type": "text"
      },
      "source": [
        "#### Hyper-parameters chosen for the model are\n",
        " - number of steps = 50\n",
        " - embedding size = 512\n",
        " - batch size = 50\n",
        " - vocabulary length = 51\n",
        " - number of epochs = 6\n",
        " - optimizer = Adam"
      ]
    },
    {
      "cell_type": "code",
      "metadata": {
        "id": "uowG6vnmWZC4",
        "colab_type": "code",
        "colab": {}
      },
      "source": [
        "num_steps = 50\n",
        "batch_size = 50\n",
        "embed_size = 512\n",
        "vocab_length = len(vocab)"
      ],
      "execution_count": 0,
      "outputs": []
    },
    {
      "cell_type": "code",
      "metadata": {
        "id": "U8pxtCcE8BS4",
        "colab_type": "code",
        "outputId": "b01ac809-2c80-42ef-be73-647adda22c0e",
        "colab": {
          "base_uri": "https://localhost:8080/",
          "height": 34
        }
      },
      "source": [
        "print(vocab_length)"
      ],
      "execution_count": 0,
      "outputs": [
        {
          "output_type": "stream",
          "text": [
            "51\n"
          ],
          "name": "stdout"
        }
      ]
    },
    {
      "cell_type": "code",
      "metadata": {
        "id": "_tKCyJanWaYf",
        "colab_type": "code",
        "colab": {}
      },
      "source": [
        "train_data_generator = KerasBatchGenerator(train_data, num_steps, batch_size, vocab_length)\n",
        "valid_data_generator = KerasBatchGenerator(valid_data, num_steps, batch_size, vocab_length)"
      ],
      "execution_count": 0,
      "outputs": []
    },
    {
      "cell_type": "markdown",
      "metadata": {
        "id": "R0gAgVxdJVen",
        "colab_type": "text"
      },
      "source": [
        "#### Recurrent Neural Network Model with two Long-short term memory (LSTM) cells is built for text generation."
      ]
    },
    {
      "cell_type": "code",
      "metadata": {
        "id": "Gtte31fUWcWz",
        "colab_type": "code",
        "outputId": "11e8c47b-5a6d-4ca0-eda6-a22fe03e8243",
        "colab": {
          "base_uri": "https://localhost:8080/",
          "height": 224
        }
      },
      "source": [
        "model = Sequential()\n",
        "model.add(Embedding(vocab_length, embed_size, input_length=num_steps))\n",
        "model.add(LSTM(embed_size, return_sequences=True))\n",
        "model.add(LSTM(embed_size, return_sequences=True))\n",
        "model.add(Dropout(0.5))\n",
        "model.add(TimeDistributed(Dense(vocab_length)))\n",
        "model.add(Activation('softmax'))"
      ],
      "execution_count": 0,
      "outputs": [
        {
          "output_type": "stream",
          "text": [
            "WARNING:tensorflow:From /usr/local/lib/python3.6/dist-packages/keras/backend/tensorflow_backend.py:66: The name tf.get_default_graph is deprecated. Please use tf.compat.v1.get_default_graph instead.\n",
            "\n",
            "WARNING:tensorflow:From /usr/local/lib/python3.6/dist-packages/keras/backend/tensorflow_backend.py:541: The name tf.placeholder is deprecated. Please use tf.compat.v1.placeholder instead.\n",
            "\n",
            "WARNING:tensorflow:From /usr/local/lib/python3.6/dist-packages/keras/backend/tensorflow_backend.py:4432: The name tf.random_uniform is deprecated. Please use tf.random.uniform instead.\n",
            "\n",
            "WARNING:tensorflow:From /usr/local/lib/python3.6/dist-packages/keras/backend/tensorflow_backend.py:148: The name tf.placeholder_with_default is deprecated. Please use tf.compat.v1.placeholder_with_default instead.\n",
            "\n",
            "WARNING:tensorflow:From /usr/local/lib/python3.6/dist-packages/keras/backend/tensorflow_backend.py:3733: calling dropout (from tensorflow.python.ops.nn_ops) with keep_prob is deprecated and will be removed in a future version.\n",
            "Instructions for updating:\n",
            "Please use `rate` instead of `keep_prob`. Rate should be set to `rate = 1 - keep_prob`.\n"
          ],
          "name": "stdout"
        }
      ]
    },
    {
      "cell_type": "markdown",
      "metadata": {
        "id": "IiSVcD_cJnpA",
        "colab_type": "text"
      },
      "source": [
        "#### Perplexity - Model Metric\n",
        "- It is a measurement of how well a probability distribution or probability model predicts a sample"
      ]
    },
    {
      "cell_type": "code",
      "metadata": {
        "id": "kTqT85zpWieD",
        "colab_type": "code",
        "colab": {}
      },
      "source": [
        "def perplexity(y_true, y_pred):\n",
        "    return K.pow(2.0, K.mean(K.categorical_crossentropy(y_true, y_pred)))"
      ],
      "execution_count": 0,
      "outputs": []
    },
    {
      "cell_type": "code",
      "metadata": {
        "id": "HbfDx9INWlQ0",
        "colab_type": "code",
        "outputId": "c6adad2d-db77-4991-fe58-5940f07e2f57",
        "colab": {
          "base_uri": "https://localhost:8080/",
          "height": 85
        }
      },
      "source": [
        "import keras.backend as K\n",
        "model.compile(loss='categorical_crossentropy', optimizer='adam', metrics=['categorical_accuracy',perplexity])"
      ],
      "execution_count": 0,
      "outputs": [
        {
          "output_type": "stream",
          "text": [
            "WARNING:tensorflow:From /usr/local/lib/python3.6/dist-packages/keras/optimizers.py:793: The name tf.train.Optimizer is deprecated. Please use tf.compat.v1.train.Optimizer instead.\n",
            "\n",
            "WARNING:tensorflow:From /usr/local/lib/python3.6/dist-packages/keras/backend/tensorflow_backend.py:3576: The name tf.log is deprecated. Please use tf.math.log instead.\n",
            "\n"
          ],
          "name": "stdout"
        }
      ]
    },
    {
      "cell_type": "code",
      "metadata": {
        "id": "p860itUgWmjj",
        "colab_type": "code",
        "outputId": "57d1c288-307c-4ca1-de86-34e3adc2b70b",
        "colab": {
          "base_uri": "https://localhost:8080/",
          "height": 374
        }
      },
      "source": [
        "print(model.summary())"
      ],
      "execution_count": 0,
      "outputs": [
        {
          "output_type": "stream",
          "text": [
            "Model: \"sequential_1\"\n",
            "_________________________________________________________________\n",
            "Layer (type)                 Output Shape              Param #   \n",
            "=================================================================\n",
            "embedding_1 (Embedding)      (None, 50, 512)           26112     \n",
            "_________________________________________________________________\n",
            "lstm_1 (LSTM)                (None, 50, 512)           2099200   \n",
            "_________________________________________________________________\n",
            "lstm_2 (LSTM)                (None, 50, 512)           2099200   \n",
            "_________________________________________________________________\n",
            "dropout_1 (Dropout)          (None, 50, 512)           0         \n",
            "_________________________________________________________________\n",
            "time_distributed_1 (TimeDist (None, 50, 51)            26163     \n",
            "_________________________________________________________________\n",
            "activation_1 (Activation)    (None, 50, 51)            0         \n",
            "=================================================================\n",
            "Total params: 4,250,675\n",
            "Trainable params: 4,250,675\n",
            "Non-trainable params: 0\n",
            "_________________________________________________________________\n",
            "None\n"
          ],
          "name": "stdout"
        }
      ]
    },
    {
      "cell_type": "code",
      "metadata": {
        "id": "1g6FCaaTWp4Q",
        "colab_type": "code",
        "colab": {}
      },
      "source": [
        "checkpointer = ModelCheckpoint(filepath='/model-{epoch:02d}.hdf5', verbose=1)"
      ],
      "execution_count": 0,
      "outputs": []
    },
    {
      "cell_type": "markdown",
      "metadata": {
        "id": "jrocFSqMJr7f",
        "colab_type": "text"
      },
      "source": [
        "#### Model Training-Phase using the training and validation dataset.\n"
      ]
    },
    {
      "cell_type": "code",
      "metadata": {
        "id": "yyu3WClTWv_e",
        "colab_type": "code",
        "outputId": "202a1caf-6880-4a23-dc09-f22625f29afc",
        "colab": {
          "base_uri": "https://localhost:8080/",
          "height": 768
        }
      },
      "source": [
        "num_epochs = 6\n",
        "train_steps = len(train_data)//(batch_size*num_steps)\n",
        "valid_steps=len(valid_data)//(batch_size*num_steps)\n",
        "hist = model.fit_generator(train_data_generator.generate(), train_steps, num_epochs,\n",
        "                    validation_data=valid_data_generator.generate(),\n",
        "                    validation_steps=valid_steps, callbacks=[checkpointer])"
      ],
      "execution_count": 0,
      "outputs": [
        {
          "output_type": "stream",
          "text": [
            "WARNING:tensorflow:From /usr/local/lib/python3.6/dist-packages/tensorflow_core/python/ops/math_grad.py:1424: where (from tensorflow.python.ops.array_ops) is deprecated and will be removed in a future version.\n",
            "Instructions for updating:\n",
            "Use tf.where in 2.0, which has the same broadcast rule as np.where\n",
            "WARNING:tensorflow:From /usr/local/lib/python3.6/dist-packages/keras/backend/tensorflow_backend.py:1033: The name tf.assign_add is deprecated. Please use tf.compat.v1.assign_add instead.\n",
            "\n",
            "WARNING:tensorflow:From /usr/local/lib/python3.6/dist-packages/keras/backend/tensorflow_backend.py:1020: The name tf.assign is deprecated. Please use tf.compat.v1.assign instead.\n",
            "\n",
            "WARNING:tensorflow:From /usr/local/lib/python3.6/dist-packages/keras/backend/tensorflow_backend.py:3005: The name tf.Session is deprecated. Please use tf.compat.v1.Session instead.\n",
            "\n",
            "Epoch 1/6\n",
            "WARNING:tensorflow:From /usr/local/lib/python3.6/dist-packages/keras/backend/tensorflow_backend.py:190: The name tf.get_default_session is deprecated. Please use tf.compat.v1.get_default_session instead.\n",
            "\n",
            "WARNING:tensorflow:From /usr/local/lib/python3.6/dist-packages/keras/backend/tensorflow_backend.py:197: The name tf.ConfigProto is deprecated. Please use tf.compat.v1.ConfigProto instead.\n",
            "\n",
            "WARNING:tensorflow:From /usr/local/lib/python3.6/dist-packages/keras/backend/tensorflow_backend.py:207: The name tf.global_variables is deprecated. Please use tf.compat.v1.global_variables instead.\n",
            "\n",
            "WARNING:tensorflow:From /usr/local/lib/python3.6/dist-packages/keras/backend/tensorflow_backend.py:216: The name tf.is_variable_initialized is deprecated. Please use tf.compat.v1.is_variable_initialized instead.\n",
            "\n",
            "WARNING:tensorflow:From /usr/local/lib/python3.6/dist-packages/keras/backend/tensorflow_backend.py:223: The name tf.variables_initializer is deprecated. Please use tf.compat.v1.variables_initializer instead.\n",
            "\n",
            "4013/4013 [==============================] - 1078s 269ms/step - loss: 1.0785 - categorical_accuracy: 0.6965 - perplexity: 2.1727 - val_loss: 0.8352 - val_categorical_accuracy: 0.7487 - val_perplexity: 1.7940\n",
            "\n",
            "Epoch 00001: saving model to /model-01.hdf5\n",
            "Epoch 2/6\n",
            "4013/4013 [==============================] - 1076s 268ms/step - loss: 0.8572 - categorical_accuracy: 0.7587 - perplexity: 1.8638 - val_loss: 0.7860 - val_categorical_accuracy: 0.7634 - val_perplexity: 1.7272\n",
            "\n",
            "Epoch 00002: saving model to /model-02.hdf5\n",
            "Epoch 3/6\n",
            "4013/4013 [==============================] - 1078s 269ms/step - loss: 0.8007 - categorical_accuracy: 0.7720 - perplexity: 1.7909 - val_loss: 0.7139 - val_categorical_accuracy: 0.7845 - val_perplexity: 1.6437\n",
            "\n",
            "Epoch 00003: saving model to /model-03.hdf5\n",
            "Epoch 4/6\n",
            "4013/4013 [==============================] - 1077s 268ms/step - loss: 0.7948 - categorical_accuracy: 0.7750 - perplexity: 1.7906 - val_loss: 0.7431 - val_categorical_accuracy: 0.7756 - val_perplexity: 1.6878\n",
            "\n",
            "Epoch 00004: saving model to /model-04.hdf5\n",
            "Epoch 5/6\n",
            "4013/4013 [==============================] - 1082s 270ms/step - loss: 0.7978 - categorical_accuracy: 0.7757 - perplexity: 1.8006 - val_loss: 0.7206 - val_categorical_accuracy: 0.7810 - val_perplexity: 1.6491\n",
            "\n",
            "Epoch 00005: saving model to /model-05.hdf5\n",
            "Epoch 6/6\n",
            "4013/4013 [==============================] - 1078s 269ms/step - loss: 0.7671 - categorical_accuracy: 0.7823 - perplexity: 1.7569 - val_loss: 0.7026 - val_categorical_accuracy: 0.7881 - val_perplexity: 1.6415\n",
            "\n",
            "Epoch 00006: saving model to /model-06.hdf5\n"
          ],
          "name": "stdout"
        }
      ]
    },
    {
      "cell_type": "code",
      "metadata": {
        "id": "TBPGJ_o_WyRY",
        "colab_type": "code",
        "colab": {}
      },
      "source": [
        "model.save(\"final_model.hdf5\")"
      ],
      "execution_count": 0,
      "outputs": []
    },
    {
      "cell_type": "markdown",
      "metadata": {
        "id": "USgzMaCuJ1YR",
        "colab_type": "text"
      },
      "source": [
        "##### Plot of Perplexity v/s Epochs - for training and validation dataset."
      ]
    },
    {
      "cell_type": "code",
      "metadata": {
        "id": "gyVCJq6nCf8K",
        "colab_type": "code",
        "outputId": "e15bb047-5e5e-4747-8267-39c139b6573e",
        "colab": {
          "base_uri": "https://localhost:8080/",
          "height": 295
        }
      },
      "source": [
        "plt.plot(hist.history['perplexity'], 'b')\n",
        "plt.plot(hist.history['val_perplexity'], 'r')\n",
        "plt.title('Perplexity Measure for Character Model')\n",
        "plt.ylabel('Perplexity')\n",
        "plt.xlabel('Epoch Number')\n",
        "plt.legend(['train', 'validation'], loc='upper right')\n",
        "plt.show()"
      ],
      "execution_count": 0,
      "outputs": [
        {
          "output_type": "display_data",
          "data": {
            "image/png": "[encoded data removed]",
            "text/plain": [
              "<Figure size 432x288 with 1 Axes>"
            ]
          },
          "metadata": {
            "tags": []
          }
        }
      ]
    },
    {
      "cell_type": "markdown",
      "metadata": {
        "id": "fkkU1sV-J3ln",
        "colab_type": "text"
      },
      "source": [
        "##### Plot of Accuracy v/s Epochs - for training and validation dataset."
      ]
    },
    {
      "cell_type": "code",
      "metadata": {
        "id": "YeICvH0k1BRX",
        "colab_type": "code",
        "outputId": "9e228084-a7e5-4a55-d06f-92d76ab7a72b",
        "colab": {
          "base_uri": "https://localhost:8080/",
          "height": 295
        }
      },
      "source": [
        "plt.plot(hist.history['categorical_accuracy'], 'b')\n",
        "plt.plot(hist.history['val_categorical_accuracy'], 'r')\n",
        "plt.title('Categorical Accuracy Measure for Character Model')\n",
        "plt.ylabel('Accuracy')\n",
        "plt.xlabel('Epoch Number')\n",
        "plt.legend(['train', 'validation'], loc='lower right')\n",
        "plt.show()"
      ],
      "execution_count": 0,
      "outputs": [
        {
          "output_type": "display_data",
          "data": {
            "image/png": "[encoded data removed]",
            "text/plain": [
              "<Figure size 432x288 with 1 Axes>"
            ]
          },
          "metadata": {
            "tags": []
          }
        }
      ]
    },
    {
      "cell_type": "markdown",
      "metadata": {
        "id": "rIoWAkOaJ6Rs",
        "colab_type": "text"
      },
      "source": [
        "##### Plot of Loss v/s Epochs - for training and validation dataset."
      ]
    },
    {
      "cell_type": "code",
      "metadata": {
        "id": "2VoLaMfa1QlZ",
        "colab_type": "code",
        "outputId": "d4f36f16-657f-48c6-8bbb-396106c76d9e",
        "colab": {
          "base_uri": "https://localhost:8080/",
          "height": 295
        }
      },
      "source": [
        "plt.plot(hist.history['loss'], 'b')\n",
        "plt.plot(hist.history['val_loss'], 'r')\n",
        "plt.title('Cross-entropy Loss Measure for Character Model')\n",
        "plt.ylabel('Loss')\n",
        "plt.xlabel('Epoch Number')\n",
        "plt.legend(['train', 'validation'], loc='upper right')\n",
        "plt.show()"
      ],
      "execution_count": 0,
      "outputs": [
        {
          "output_type": "display_data",
          "data": {
            "image/png": "[encoded data removed]",
            "text/plain": [
              "<Figure size 432x288 with 1 Axes>"
            ]
          },
          "metadata": {
            "tags": []
          }
        }
      ]
    },
    {
      "cell_type": "markdown",
      "metadata": {
        "id": "_chKROlqKB4M",
        "colab_type": "text"
      },
      "source": [
        "#### Performing Character Model prediction on the test dataset for text generation."
      ]
    },
    {
      "cell_type": "code",
      "metadata": {
        "id": "FdUZfbgqCpMd",
        "colab_type": "code",
        "outputId": "43f9051b-3466-4958-9f7d-857f5bab989a",
        "colab": {
          "base_uri": "https://localhost:8080/",
          "height": 88
        }
      },
      "source": [
        "iterations = 200\n",
        "test_prediction_generator = KerasBatchGenerator(test_data, num_steps, 1, vocab_length,skip_step=1)\n",
        "num_predict = 400\n",
        "true_print_out = \"Actual chars: \"\n",
        "pred_print_out = \"Predicted chars: \"\n",
        "for i in range(num_predict):\n",
        "    data = next(test_prediction_generator.generate())\n",
        "    prediction = model.predict(data[0])\n",
        "    predict_char = np.argmax(prediction[:, num_steps - 1, :])\n",
        "    predict_char = predict_word\n",
        "    true_print_out += idx2char[test_data[num_steps + iterations + i]]\n",
        "    pred_print_out += idx2char[predict_char]\n",
        "print(true_print_out.replace(\"_\", \" \"))\n",
        "print(pred_print_out.replace(\"_\", \" \"))"
      ],
      "execution_count": 0,
      "outputs": [
        {
          "output_type": "stream",
          "text": [
            "Actual chars: e   p l u n g e d   N   p o i n t s   m o s t   o f   i t   i n   t h e   f i n a l   h o u r   i t   b a r e l y   m a n a g e d   t o   s t a y   t h i s   s i d e   o f   c h a o s \n",
            " s o m e   c i r c u i t   b r e a k e r s   i n s t a l l e d   a f t e r   t h e   o c t o b e r   N   c r a s h   f a i l e d   t h e i r   f i r s t   t e s t   t r a d e r s   s a y   u n a b l e   t o   c o o \n",
            "Predicted chars:                                                                                                                                                                                                                                                                                                                                                                                                                 \n"
          ],
          "name": "stdout"
        }
      ]
    },
    {
      "cell_type": "code",
      "metadata": {
        "id": "jZnPBgPhVY8h",
        "colab_type": "code",
        "colab": {}
      },
      "source": [
        ""
      ],
      "execution_count": 0,
      "outputs": []
    }
  ]
}