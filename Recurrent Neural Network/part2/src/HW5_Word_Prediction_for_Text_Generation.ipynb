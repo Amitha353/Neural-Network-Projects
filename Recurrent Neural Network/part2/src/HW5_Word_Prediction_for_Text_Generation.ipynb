{
  "nbformat": 4,
  "nbformat_minor": 0,
  "metadata": {
    "colab": {
      "name": "HW5 - Word Prediction for Text Generation.ipynb",
      "provenance": [],
      "collapsed_sections": []
    },
    "kernelspec": {
      "name": "python3",
      "display_name": "Python 3"
    },
    "accelerator": "GPU"
  },
  "cells": [
    {
      "cell_type": "markdown",
      "metadata": {
        "id": "cBnRZ500FR6D",
        "colab_type": "text"
      },
      "source": [
        "### Word Prediction for Text Generation\n",
        "- Import Essential Libraries"
      ]
    },
    {
      "cell_type": "code",
      "metadata": {
        "id": "Qvjh6cobvfb3",
        "colab_type": "code",
        "outputId": "6566902f-f6cb-490c-e936-de9c14ac837a",
        "colab": {
          "base_uri": "https://localhost:8080/",
          "height": 100
        }
      },
      "source": [
        "from __future__ import print_function\n",
        "import collections\n",
        "import os\n",
        "import tensorflow as tf\n",
        "from keras.models import Sequential, load_model\n",
        "from keras.layers import Dense, Activation, Embedding, Dropout, TimeDistributed\n",
        "from keras.layers import LSTM\n",
        "from keras.optimizers import Adam\n",
        "from keras.utils import to_categorical\n",
        "from keras.callbacks import ModelCheckpoint\n",
        "from keras.utils.vis_utils import plot_model\n",
        "import numpy as np\n",
        "import argparse\n",
        "import matplotlib.pyplot as plt"
      ],
      "execution_count": 1,
      "outputs": [
        {
          "output_type": "display_data",
          "data": {
            "text/html": [
              "<p style=\"color: red;\">\n",
              "The default version of TensorFlow in Colab will soon switch to TensorFlow 2.x.<br>\n",
              "We recommend you <a href=\"https://www.tensorflow.org/guide/migrate\" target=\"_blank\">upgrade</a> now \n",
              "or ensure your notebook will continue to use TensorFlow 1.x via the <code>%tensorflow_version 1.x</code> magic:\n",
              "<a href=\"https://colab.research.google.com/notebooks/tensorflow_version.ipynb\" target=\"_blank\">more info</a>.</p>\n"
            ],
            "text/plain": [
              "<IPython.core.display.HTML object>"
            ]
          },
          "metadata": {
            "tags": []
          }
        },
        {
          "output_type": "stream",
          "text": [
            "Using TensorFlow backend.\n"
          ],
          "name": "stderr"
        }
      ]
    },
    {
      "cell_type": "markdown",
      "metadata": {
        "id": "0rwKtfOYFd76",
        "colab_type": "text"
      },
      "source": [
        "#### Load the training dataset and create dictionary based on the words in the training dataset."
      ]
    },
    {
      "cell_type": "code",
      "metadata": {
        "id": "EJ0FLfuNv4OD",
        "colab_type": "code",
        "colab": {}
      },
      "source": [
        "data_path = 'simple-examples/data/'\n",
        "f= open (data_path+'ptb.train.txt')\n",
        "data = f.read().replace(\"\\n\", \"<eos>\").split(\" \")\n",
        "counter = collections.Counter(data)\n",
        "words, _ = list(zip(*counter.items()))\n",
        "word_to_id = dict(zip(words, range(len(words))))\n",
        "id_to_word = dict([[v,k] for k,v in word_to_id.items()])\n",
        "vocab_length = len(word_to_id)"
      ],
      "execution_count": 0,
      "outputs": []
    },
    {
      "cell_type": "code",
      "metadata": {
        "id": "XnxHFKDuwANE",
        "colab_type": "code",
        "colab": {}
      },
      "source": [
        "def file_to_word_ids(filename, word_to_id):\n",
        "    f= open (filename)\n",
        "    data = f.read().replace(\"\\n\", \"<eos>\").split(\" \")\n",
        "    return [word_to_id[word] for word in data if word in word_to_id]"
      ],
      "execution_count": 0,
      "outputs": []
    },
    {
      "cell_type": "markdown",
      "metadata": {
        "id": "u5EiOi1cFpj3",
        "colab_type": "text"
      },
      "source": [
        "#### The Training, Validation and Test Datasets are converted into numerical format using the dictionary."
      ]
    },
    {
      "cell_type": "code",
      "metadata": {
        "id": "0Bhno0TLwFrc",
        "colab_type": "code",
        "colab": {}
      },
      "source": [
        "train_data = file_to_word_ids(data_path+'ptb.train.txt', word_to_id)\n",
        "valid_data = file_to_word_ids(data_path+'ptb.valid.txt', word_to_id)\n",
        "test_data = file_to_word_ids(data_path+'ptb.test.txt', word_to_id)"
      ],
      "execution_count": 0,
      "outputs": []
    },
    {
      "cell_type": "markdown",
      "metadata": {
        "id": "FvV0s4--F3fy",
        "colab_type": "text"
      },
      "source": [
        "#### The training and validation datasets are segregated into batch-sizes when processed by the recurrent neural network."
      ]
    },
    {
      "cell_type": "code",
      "metadata": {
        "id": "zPmbjdQcwK4B",
        "colab_type": "code",
        "colab": {}
      },
      "source": [
        "class KerasBatchGenerator(object):\n",
        "\n",
        "    def __init__(self, data, num_steps, batch_size, vocabulary, skip_step=5):\n",
        "        self.data = data\n",
        "        self.num_steps = num_steps\n",
        "        self.batch_size = batch_size\n",
        "        self.vocabulary = vocabulary\n",
        "        self.current_idx = 0\n",
        "        self.skip_step = skip_step\n",
        "\n",
        "    def generate(self):\n",
        "        x = np.zeros((self.batch_size, self.num_steps))\n",
        "        y = np.zeros((self.batch_size, self.num_steps, self.vocabulary))\n",
        "        while True:\n",
        "            for i in range(self.batch_size):\n",
        "                if self.current_idx + self.num_steps >= len(self.data):\n",
        "                    self.current_idx = 0\n",
        "                x[i, :] = self.data[self.current_idx:self.current_idx + self.num_steps]\n",
        "                temp_y = self.data[self.current_idx + 1:self.current_idx + self.num_steps + 1]\n",
        "                y[i, :, :] = to_categorical(temp_y, num_classes=self.vocabulary)\n",
        "                self.current_idx += self.skip_step\n",
        "            yield x, y"
      ],
      "execution_count": 0,
      "outputs": []
    },
    {
      "cell_type": "markdown",
      "metadata": {
        "id": "4ctCsqF-GGn-",
        "colab_type": "text"
      },
      "source": [
        "#### Hyper-parameters chosen for the model are\n",
        "- number of steps = 36\n",
        "- embedding size = 500\n",
        "- batch size = 20\n",
        "- vocabulary length = 10001\n",
        "- number of epochs = 20\n",
        "- optimizer = Adam"
      ]
    },
    {
      "cell_type": "code",
      "metadata": {
        "id": "D_xWRkoEwTcw",
        "colab_type": "code",
        "colab": {}
      },
      "source": [
        "num_steps = 36\n",
        "batch_size = 20\n",
        "embed_size = 500"
      ],
      "execution_count": 0,
      "outputs": []
    },
    {
      "cell_type": "code",
      "metadata": {
        "id": "V5Ezow9GwV0z",
        "colab_type": "code",
        "colab": {}
      },
      "source": [
        "train_data_generator = KerasBatchGenerator(train_data, num_steps, batch_size, vocab_length)\n",
        "valid_data_generator = KerasBatchGenerator(valid_data, num_steps, batch_size, vocab_length)"
      ],
      "execution_count": 0,
      "outputs": []
    },
    {
      "cell_type": "markdown",
      "metadata": {
        "id": "6cP_wwTKGghA",
        "colab_type": "text"
      },
      "source": [
        "#### Recurrent Neural Network Model with two Long-short term memory (LSTM) cells is built for text generation."
      ]
    },
    {
      "cell_type": "code",
      "metadata": {
        "id": "MWaOpmFiwYAf",
        "colab_type": "code",
        "outputId": "06dbad50-fa4e-45a5-b140-3d3df69764a3",
        "colab": {
          "base_uri": "https://localhost:8080/",
          "height": 237
        }
      },
      "source": [
        "model = Sequential()\n",
        "model.add(Embedding(vocab_length, embed_size, input_length=num_steps))\n",
        "model.add(LSTM(embed_size, return_sequences=True))\n",
        "model.add(LSTM(embed_size, return_sequences=True))\n",
        "model.add(Dropout(0.5))\n",
        "model.add(TimeDistributed(Dense(vocab_length)))\n",
        "model.add(Activation('softmax'))"
      ],
      "execution_count": 8,
      "outputs": [
        {
          "output_type": "stream",
          "text": [
            "WARNING:tensorflow:From /usr/local/lib/python3.6/dist-packages/keras/backend/tensorflow_backend.py:66: The name tf.get_default_graph is deprecated. Please use tf.compat.v1.get_default_graph instead.\n",
            "\n",
            "WARNING:tensorflow:From /usr/local/lib/python3.6/dist-packages/keras/backend/tensorflow_backend.py:541: The name tf.placeholder is deprecated. Please use tf.compat.v1.placeholder instead.\n",
            "\n",
            "WARNING:tensorflow:From /usr/local/lib/python3.6/dist-packages/keras/backend/tensorflow_backend.py:4432: The name tf.random_uniform is deprecated. Please use tf.random.uniform instead.\n",
            "\n",
            "WARNING:tensorflow:From /usr/local/lib/python3.6/dist-packages/keras/backend/tensorflow_backend.py:148: The name tf.placeholder_with_default is deprecated. Please use tf.compat.v1.placeholder_with_default instead.\n",
            "\n",
            "WARNING:tensorflow:From /usr/local/lib/python3.6/dist-packages/keras/backend/tensorflow_backend.py:3733: calling dropout (from tensorflow.python.ops.nn_ops) with keep_prob is deprecated and will be removed in a future version.\n",
            "Instructions for updating:\n",
            "Please use `rate` instead of `keep_prob`. Rate should be set to `rate = 1 - keep_prob`.\n"
          ],
          "name": "stdout"
        }
      ]
    },
    {
      "cell_type": "markdown",
      "metadata": {
        "id": "3MoLX54VGuyY",
        "colab_type": "text"
      },
      "source": [
        "#### Perplexity - Model Metric\n",
        "- It is a measurement of how well a probability distribution or probability model predicts a sample"
      ]
    },
    {
      "cell_type": "code",
      "metadata": {
        "id": "Y0BFkza9wq-j",
        "colab_type": "code",
        "colab": {}
      },
      "source": [
        "def perplexity(y_true, y_pred):\n",
        "    return K.pow(2.0, K.mean(K.categorical_crossentropy(y_true, y_pred)))"
      ],
      "execution_count": 0,
      "outputs": []
    },
    {
      "cell_type": "code",
      "metadata": {
        "id": "Zi0El3WMxg2d",
        "colab_type": "code",
        "outputId": "cced8180-0762-4b0e-a337-82eac2629b35",
        "colab": {
          "base_uri": "https://localhost:8080/",
          "height": 110
        }
      },
      "source": [
        "import keras.backend as K\n",
        "model.compile(loss='categorical_crossentropy', optimizer='adam', metrics=['categorical_accuracy',perplexity])"
      ],
      "execution_count": 10,
      "outputs": [
        {
          "output_type": "stream",
          "text": [
            "WARNING:tensorflow:From /usr/local/lib/python3.6/dist-packages/keras/optimizers.py:793: The name tf.train.Optimizer is deprecated. Please use tf.compat.v1.train.Optimizer instead.\n",
            "\n",
            "WARNING:tensorflow:From /usr/local/lib/python3.6/dist-packages/keras/backend/tensorflow_backend.py:3576: The name tf.log is deprecated. Please use tf.math.log instead.\n",
            "\n"
          ],
          "name": "stdout"
        }
      ]
    },
    {
      "cell_type": "code",
      "metadata": {
        "id": "aKjJNIGpxjac",
        "colab_type": "code",
        "outputId": "12757097-7732-4cf7-fdc7-4099ed8811c1",
        "colab": {
          "base_uri": "https://localhost:8080/",
          "height": 399
        }
      },
      "source": [
        "print(model.summary())"
      ],
      "execution_count": 11,
      "outputs": [
        {
          "output_type": "stream",
          "text": [
            "Model: \"sequential_1\"\n",
            "_________________________________________________________________\n",
            "Layer (type)                 Output Shape              Param #   \n",
            "=================================================================\n",
            "embedding_1 (Embedding)      (None, 36, 500)           5000500   \n",
            "_________________________________________________________________\n",
            "lstm_1 (LSTM)                (None, 36, 500)           2002000   \n",
            "_________________________________________________________________\n",
            "lstm_2 (LSTM)                (None, 36, 500)           2002000   \n",
            "_________________________________________________________________\n",
            "dropout_1 (Dropout)          (None, 36, 500)           0         \n",
            "_________________________________________________________________\n",
            "time_distributed_1 (TimeDist (None, 36, 10001)         5010501   \n",
            "_________________________________________________________________\n",
            "activation_1 (Activation)    (None, 36, 10001)         0         \n",
            "=================================================================\n",
            "Total params: 14,015,001\n",
            "Trainable params: 14,015,001\n",
            "Non-trainable params: 0\n",
            "_________________________________________________________________\n",
            "None\n"
          ],
          "name": "stdout"
        }
      ]
    },
    {
      "cell_type": "code",
      "metadata": {
        "id": "goi9y2cVxrLx",
        "colab_type": "code",
        "colab": {}
      },
      "source": [
        "checkpointer = ModelCheckpoint(filepath='/model-{epoch:02d}.hdf5', verbose=1)"
      ],
      "execution_count": 0,
      "outputs": []
    },
    {
      "cell_type": "markdown",
      "metadata": {
        "id": "Bp1Oj0D8G9_k",
        "colab_type": "text"
      },
      "source": [
        "#### Model Training-Phase using the training and validation dataset.\n"
      ]
    },
    {
      "cell_type": "code",
      "metadata": {
        "id": "gMlRPca5xvOV",
        "colab_type": "code",
        "outputId": "ec41855e-9658-42a9-fd20-27486d13ea70",
        "colab": {
          "base_uri": "https://localhost:8080/",
          "height": 1000
        }
      },
      "source": [
        "num_epochs = 20\n",
        "train_steps = len(train_data)//(batch_size*num_steps)\n",
        "valid_steps=len(valid_data)//(batch_size*num_steps)\n",
        "hist = model.fit_generator(train_data_generator.generate(), train_steps, num_epochs,\n",
        "                    validation_data=valid_data_generator.generate(),\n",
        "                    validation_steps=valid_steps, callbacks=[checkpointer])"
      ],
      "execution_count": 13,
      "outputs": [
        {
          "output_type": "stream",
          "text": [
            "WARNING:tensorflow:From /usr/local/lib/python3.6/dist-packages/tensorflow_core/python/ops/math_grad.py:1424: where (from tensorflow.python.ops.array_ops) is deprecated and will be removed in a future version.\n",
            "Instructions for updating:\n",
            "Use tf.where in 2.0, which has the same broadcast rule as np.where\n",
            "WARNING:tensorflow:From /usr/local/lib/python3.6/dist-packages/keras/backend/tensorflow_backend.py:1033: The name tf.assign_add is deprecated. Please use tf.compat.v1.assign_add instead.\n",
            "\n",
            "WARNING:tensorflow:From /usr/local/lib/python3.6/dist-packages/keras/backend/tensorflow_backend.py:1020: The name tf.assign is deprecated. Please use tf.compat.v1.assign instead.\n",
            "\n",
            "WARNING:tensorflow:From /usr/local/lib/python3.6/dist-packages/keras/backend/tensorflow_backend.py:3005: The name tf.Session is deprecated. Please use tf.compat.v1.Session instead.\n",
            "\n",
            "Epoch 1/20\n",
            "WARNING:tensorflow:From /usr/local/lib/python3.6/dist-packages/keras/backend/tensorflow_backend.py:190: The name tf.get_default_session is deprecated. Please use tf.compat.v1.get_default_session instead.\n",
            "\n",
            "WARNING:tensorflow:From /usr/local/lib/python3.6/dist-packages/keras/backend/tensorflow_backend.py:197: The name tf.ConfigProto is deprecated. Please use tf.compat.v1.ConfigProto instead.\n",
            "\n",
            "WARNING:tensorflow:From /usr/local/lib/python3.6/dist-packages/keras/backend/tensorflow_backend.py:207: The name tf.global_variables is deprecated. Please use tf.compat.v1.global_variables instead.\n",
            "\n",
            "WARNING:tensorflow:From /usr/local/lib/python3.6/dist-packages/keras/backend/tensorflow_backend.py:216: The name tf.is_variable_initialized is deprecated. Please use tf.compat.v1.is_variable_initialized instead.\n",
            "\n",
            "WARNING:tensorflow:From /usr/local/lib/python3.6/dist-packages/keras/backend/tensorflow_backend.py:223: The name tf.variables_initializer is deprecated. Please use tf.compat.v1.variables_initializer instead.\n",
            "\n",
            "1291/1291 [==============================] - 254s 196ms/step - loss: 6.9335 - categorical_accuracy: 0.0634 - perplexity: 131.8887 - val_loss: 6.5158 - val_categorical_accuracy: 0.1017 - val_perplexity: 94.1253\n",
            "\n",
            "Epoch 00001: saving model to /model-01.hdf5\n",
            "Epoch 2/20\n",
            "1291/1291 [==============================] - 248s 192ms/step - loss: 6.4731 - categorical_accuracy: 0.1031 - perplexity: 92.1648 - val_loss: 6.1887 - val_categorical_accuracy: 0.1206 - val_perplexity: 75.6539\n",
            "\n",
            "Epoch 00002: saving model to /model-02.hdf5\n",
            "Epoch 3/20\n",
            "1291/1291 [==============================] - 246s 190ms/step - loss: 6.2618 - categorical_accuracy: 0.1242 - perplexity: 80.4523 - val_loss: 6.1521 - val_categorical_accuracy: 0.1449 - val_perplexity: 75.6319\n",
            "\n",
            "Epoch 00003: saving model to /model-03.hdf5\n",
            "Epoch 4/20\n",
            "1291/1291 [==============================] - 245s 190ms/step - loss: 6.2229 - categorical_accuracy: 0.1300 - perplexity: 79.6155 - val_loss: 6.1355 - val_categorical_accuracy: 0.1233 - val_perplexity: 72.2067\n",
            "\n",
            "Epoch 00004: saving model to /model-04.hdf5\n",
            "Epoch 5/20\n",
            "1291/1291 [==============================] - 246s 190ms/step - loss: 6.0942 - categorical_accuracy: 0.1412 - perplexity: 73.9296 - val_loss: 5.9114 - val_categorical_accuracy: 0.1581 - val_perplexity: 65.0497\n",
            "\n",
            "Epoch 00005: saving model to /model-05.hdf5\n",
            "Epoch 6/20\n",
            "1291/1291 [==============================] - 246s 190ms/step - loss: 6.0443 - categorical_accuracy: 0.1456 - perplexity: 72.5054 - val_loss: 5.7089 - val_categorical_accuracy: 0.1659 - val_perplexity: 56.2750\n",
            "\n",
            "Epoch 00006: saving model to /model-06.hdf5\n",
            "Epoch 7/20\n",
            "1291/1291 [==============================] - 246s 191ms/step - loss: 5.8713 - categorical_accuracy: 0.1618 - perplexity: 64.2226 - val_loss: 5.4591 - val_categorical_accuracy: 0.1937 - val_perplexity: 48.1763\n",
            "\n",
            "Epoch 00007: saving model to /model-07.hdf5\n",
            "Epoch 8/20\n",
            "1291/1291 [==============================] - 247s 191ms/step - loss: 5.7943 - categorical_accuracy: 0.1544 - perplexity: 60.4173 - val_loss: 5.7732 - val_categorical_accuracy: 0.1768 - val_perplexity: 58.1619\n",
            "\n",
            "Epoch 00008: saving model to /model-08.hdf5\n",
            "Epoch 9/20\n",
            "1291/1291 [==============================] - 246s 190ms/step - loss: 5.7435 - categorical_accuracy: 0.1620 - perplexity: 58.2681 - val_loss: 5.5479 - val_categorical_accuracy: 0.1782 - val_perplexity: 49.9525\n",
            "\n",
            "Epoch 00009: saving model to /model-09.hdf5\n",
            "Epoch 10/20\n",
            "1291/1291 [==============================] - 240s 186ms/step - loss: 5.6685 - categorical_accuracy: 0.1678 - perplexity: 55.5829 - val_loss: 5.4988 - val_categorical_accuracy: 0.1932 - val_perplexity: 50.8725\n",
            "\n",
            "Epoch 00010: saving model to /model-10.hdf5\n",
            "Epoch 11/20\n",
            "1291/1291 [==============================] - 237s 183ms/step - loss: 5.5748 - categorical_accuracy: 0.1793 - perplexity: 52.9352 - val_loss: 5.5090 - val_categorical_accuracy: 0.1738 - val_perplexity: 46.9199\n",
            "\n",
            "Epoch 00011: saving model to /model-11.hdf5\n",
            "Epoch 12/20\n",
            "1291/1291 [==============================] - 244s 189ms/step - loss: 5.6357 - categorical_accuracy: 0.1740 - perplexity: 57.2437 - val_loss: 5.3390 - val_categorical_accuracy: 0.2074 - val_perplexity: 45.8381\n",
            "\n",
            "Epoch 00012: saving model to /model-12.hdf5\n",
            "Epoch 13/20\n",
            "1291/1291 [==============================] - 241s 187ms/step - loss: 5.6604 - categorical_accuracy: 0.1717 - perplexity: 57.0549 - val_loss: 5.3358 - val_categorical_accuracy: 0.2032 - val_perplexity: 45.1274\n",
            "\n",
            "Epoch 00013: saving model to /model-13.hdf5\n",
            "Epoch 14/20\n",
            "1291/1291 [==============================] - 241s 187ms/step - loss: 5.5915 - categorical_accuracy: 0.1802 - perplexity: 55.8728 - val_loss: 5.1515 - val_categorical_accuracy: 0.2241 - val_perplexity: 40.6851\n",
            "\n",
            "Epoch 00014: saving model to /model-14.hdf5\n",
            "Epoch 15/20\n",
            "1291/1291 [==============================] - 240s 186ms/step - loss: 5.4556 - categorical_accuracy: 0.1797 - perplexity: 49.7978 - val_loss: 5.5656 - val_categorical_accuracy: 0.1983 - val_perplexity: 51.3570\n",
            "\n",
            "Epoch 00015: saving model to /model-15.hdf5\n",
            "Epoch 16/20\n",
            "1291/1291 [==============================] - 242s 187ms/step - loss: 5.5187 - categorical_accuracy: 0.1749 - perplexity: 52.6991 - val_loss: 5.6296 - val_categorical_accuracy: 0.1845 - val_perplexity: 53.1886\n",
            "\n",
            "Epoch 00016: saving model to /model-16.hdf5\n",
            "Epoch 17/20\n",
            "1291/1291 [==============================] - 241s 187ms/step - loss: 5.5536 - categorical_accuracy: 0.1735 - perplexity: 54.2891 - val_loss: 5.3186 - val_categorical_accuracy: 0.2082 - val_perplexity: 44.3799\n",
            "\n",
            "Epoch 00017: saving model to /model-17.hdf5\n",
            "Epoch 18/20\n",
            "1291/1291 [==============================] - 242s 187ms/step - loss: 5.4360 - categorical_accuracy: 0.1850 - perplexity: 49.7053 - val_loss: 5.3899 - val_categorical_accuracy: 0.1872 - val_perplexity: 44.0750\n",
            "\n",
            "Epoch 00018: saving model to /model-18.hdf5\n",
            "Epoch 19/20\n",
            "1291/1291 [==============================] - 242s 188ms/step - loss: 5.3603 - categorical_accuracy: 0.1951 - perplexity: 48.5398 - val_loss: 5.1942 - val_categorical_accuracy: 0.2189 - val_perplexity: 40.7572\n",
            "\n",
            "Epoch 00019: saving model to /model-19.hdf5\n",
            "Epoch 20/20\n",
            "1291/1291 [==============================] - 242s 188ms/step - loss: 5.4601 - categorical_accuracy: 0.1833 - perplexity: 50.7271 - val_loss: 5.5031 - val_categorical_accuracy: 0.1982 - val_perplexity: 49.0765\n",
            "\n",
            "Epoch 00020: saving model to /model-20.hdf5\n"
          ],
          "name": "stdout"
        }
      ]
    },
    {
      "cell_type": "code",
      "metadata": {
        "id": "d_mXv9ZsPmWe",
        "colab_type": "code",
        "colab": {}
      },
      "source": [
        "model.save(\"final_model.hdf5\")"
      ],
      "execution_count": 0,
      "outputs": []
    },
    {
      "cell_type": "markdown",
      "metadata": {
        "id": "_3NHEflnHFKc",
        "colab_type": "text"
      },
      "source": [
        "##### Plot of Perplexity v/s Epochs - for training and validation dataset."
      ]
    },
    {
      "cell_type": "code",
      "metadata": {
        "id": "ezILDOIBPnNV",
        "colab_type": "code",
        "outputId": "22644bfd-4714-4745-8652-4a0a46f575c9",
        "colab": {
          "base_uri": "https://localhost:8080/",
          "height": 295
        }
      },
      "source": [
        "plt.plot(hist.history['perplexity'], 'b')\n",
        "plt.plot(hist.history['val_perplexity'], 'r')\n",
        "plt.title('Perplexity Measure for Word Model')\n",
        "plt.ylabel('Perplexity')\n",
        "plt.xlabel('Epoch Number')\n",
        "plt.legend(['train', 'validation'], loc='upper right')\n",
        "plt.show()"
      ],
      "execution_count": 38,
      "outputs": [
        {
          "output_type": "display_data",
          "data": {
            "image/png": "[encoded data removed]",
            "text/plain": [
              "<Figure size 432x288 with 1 Axes>"
            ]
          },
          "metadata": {
            "tags": []
          }
        }
      ]
    },
    {
      "cell_type": "markdown",
      "metadata": {
        "id": "irsQw1wOHNNU",
        "colab_type": "text"
      },
      "source": [
        "##### Plot of Accuracy v/s Epochs for the training and validation dataset."
      ]
    },
    {
      "cell_type": "code",
      "metadata": {
        "id": "i5PiJ1S66U_r",
        "colab_type": "code",
        "colab": {
          "base_uri": "https://localhost:8080/",
          "height": 295
        },
        "outputId": "487f33d0-7d3a-489e-8ff8-662d9da6fe40"
      },
      "source": [
        "plt.plot(hist.history['categorical_accuracy'], 'b')\n",
        "plt.plot(hist.history['val_categorical_accuracy'], 'r')\n",
        "plt.title('Categorical Accuracy Measure for Word Model')\n",
        "plt.ylabel('Accuracy')\n",
        "plt.xlabel('Epoch Number')\n",
        "plt.legend(['train', 'validation'], loc='lower right')\n",
        "plt.show()"
      ],
      "execution_count": 22,
      "outputs": [
        {
          "output_type": "display_data",
          "data": {
            "image/png": "[encoded data removed]",
            "text/plain": [
              "<Figure size 432x288 with 1 Axes>"
            ]
          },
          "metadata": {
            "tags": []
          }
        }
      ]
    },
    {
      "cell_type": "markdown",
      "metadata": {
        "id": "NMih5nvUHVYb",
        "colab_type": "text"
      },
      "source": [
        "##### Plot of Loss v/s Epochs for training and validation dataset."
      ]
    },
    {
      "cell_type": "code",
      "metadata": {
        "id": "0dyMjtNV6Vbm",
        "colab_type": "code",
        "colab": {
          "base_uri": "https://localhost:8080/",
          "height": 295
        },
        "outputId": "9fc735b0-d200-4593-8617-30b44038110f"
      },
      "source": [
        "plt.plot(hist.history['loss'], 'b')\n",
        "plt.plot(hist.history['val_loss'], 'r')\n",
        "plt.title('Cross-entropy Loss Measure for Word Model')\n",
        "plt.ylabel('Loss')\n",
        "plt.xlabel('Epoch Number')\n",
        "plt.legend(['train', 'validation'], loc='upper right')\n",
        "plt.show()"
      ],
      "execution_count": 23,
      "outputs": [
        {
          "output_type": "display_data",
          "data": {
            "image/png": "[encoded data removed]",
            "text/plain": [
              "<Figure size 432x288 with 1 Axes>"
            ]
          },
          "metadata": {
            "tags": []
          }
        }
      ]
    },
    {
      "cell_type": "markdown",
      "metadata": {
        "id": "sFNd0Ms4HcSj",
        "colab_type": "text"
      },
      "source": [
        "#### Performing Word Model prediction on the test dataset for text generation."
      ]
    },
    {
      "cell_type": "code",
      "metadata": {
        "id": "ln1y0HhVPu3O",
        "colab_type": "code",
        "outputId": "36a4b138-c496-4d1b-ea78-ff2564b6ef58",
        "colab": {
          "base_uri": "https://localhost:8080/",
          "height": 74
        }
      },
      "source": [
        "iterations = 100\n",
        "test_prediction_generator = KerasBatchGenerator(test_data, num_steps, 1, vocab_length,skip_step=1)\n",
        "num_predict = 200\n",
        "temperature = 1.0\n",
        "true_print_out = \"Actual words: \"\n",
        "pred_print_out = \"Predicted words: \"\n",
        "for i in range(num_predict):\n",
        "    data = next(test_prediction_generator.generate())\n",
        "    prediction = model.predict(data[0])\n",
        "    predict_word = np.argmax(prediction[:, 50 - 1, :])\n",
        "    predict_word = predict_word/temperature\n",
        "\n",
        "    true_print_out += id_to_word[test_data[50 + iterations + i]] + \" \"\n",
        "    pred_print_out += id_to_word[predict_word] + \" \"\n",
        "print(true_print_out)\n",
        "print(pred_print_out)"
      ],
      "execution_count": 40,
      "outputs": [
        {
          "output_type": "stream",
          "text": [
            "Actual words: floor traders by buying big blocks of stock traders say <eos> heavy selling of standard & poor 's 500-stock index futures in chicago <unk> beat stocks downward <eos> seven big board stocks ual amr bankamerica walt disney capital cities\\/abc philip morris and pacific telesis group stopped trading and never resumed <eos> the <unk> has already begun <eos> the equity market was <unk> <eos> once again the specialists were not able to handle the imbalances on the floor of the new york stock exchange said christopher <unk> senior vice president at <unk> securities corp <eos> <unk> james <unk> chairman of specialists henderson brothers inc. it is easy to say the specialist is n't doing his job <eos> when the dollar is in a <unk> even central banks ca n't stop it <eos> speculators are calling for a degree of liquidity that is not there in the market <eos> many money managers and some traders had already left their offices early friday afternoon on a warm autumn day because the stock market was so quiet <eos> then in a <unk> plunge the dow jones industrials in barely an hour surrendered about a third of their gains this year <unk> up a 190.58-point \n",
            "Predicted words: <eos> a <unk> jones industrial average <eos> N N to than the <eos> the <unk> <unk> of was <eos> to <unk> in year <eos> the <eos> the of court are the the <unk> N N the to <unk> <unk> <eos> said <eos> to <unk> the <unk> of <eos> the the <eos> the <eos> the <unk> N market <unk> are the <unk> board <eos> of <unk> of the are the week <eos> are <unk> <eos> the <unk> N <eos> the <eos> n't be the <unk> of <eos> the <unk> <unk> are to <unk> the the the <unk> <eos> the the <unk> <unk> of <eos> the the <unk> of the <eos> <eos> <eos> the <unk> of the & north 's <unk> index rose rose the <eos> the the in in the years banks <unk> are and inc. inc. <unk> co. inc. inc. <unk> inc. the <unk> inc. <eos> a in the <unk> <eos> the <unk> <unk> been been to the <unk> <unk> is <unk> <eos> the the the <unk> are <unk> <unk> to <unk> the <unk> <eos> the <unk> <eos> the <unk> york stock exchange <eos> <eos> <unk> a vice president of the <unk> inc. <eos> the <unk> <unk> a of the \n"
          ],
          "name": "stdout"
        }
      ]
    },
    {
      "cell_type": "code",
      "metadata": {
        "id": "xb2FdkKUSIxX",
        "colab_type": "code",
        "colab": {}
      },
      "source": [
        ""
      ],
      "execution_count": 0,
      "outputs": []
    }
  ]
}